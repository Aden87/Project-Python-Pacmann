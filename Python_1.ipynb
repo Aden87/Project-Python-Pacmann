{
  "nbformat": 4,
  "nbformat_minor": 0,
  "metadata": {
    "colab": {
      "provenance": []
    },
    "kernelspec": {
      "name": "python3",
      "display_name": "Python 3"
    },
    "language_info": {
      "name": "python"
    }
  },
  "cells": [
    {
      "cell_type": "markdown",
      "source": [
        "\n",
        "# Final Project Python 1"
      ],
      "metadata": {
        "id": "O23kHhYGOOmh"
      }
    },
    {
      "cell_type": "code",
      "source": [
        "from tabulate import tabulate\n",
        "import pandas as pd\n",
        "# menggukana library pandas dan tabulate supaya dapat menampilkan datar belanjaan menjadi tabel/datarame"
      ],
      "metadata": {
        "id": "sNcrjmbPlQbi"
      },
      "execution_count": 3,
      "outputs": []
    },
    {
      "cell_type": "code",
      "source": [
        "item=[]\n",
        "# list item digunakan untuk menyimpan semua barang pembelian user \n",
        "total=[]\n",
        "# list total digunakan untuk menyimpan jumlah total barang pembelian user \n",
        "\n",
        "# class Transaction dibawah ini untuk menampilkan nama yg diinput user\n",
        "class Transaction:\n",
        "  def __init__(self,nama_user):\n",
        "    print(\"Selamat Datang\",(nama_user),\"di Toko Piton\")\n",
        "\n",
        "''' class reset dibawah ini memiliki method hapus yg berfungsi untuk menghapus seluruh barang pada list item\n",
        "pada saat user ingin menghapus semua barang.\n",
        "'''\n",
        "class Reset:\n",
        "  def Hapus (self):\n",
        "    item.clear()\n",
        "\n",
        "nama_user=str(input(\"Masukkan Nama Anda : \"))\n",
        "\"\"\"memanggil class Transaction\"\"\"\n",
        "trnsct_123=Transaction(nama_user)\n",
        "\n",
        "\n",
        "ulang=int(input(\"Anda membeli berapa jenis barang? : \"))\n",
        "for i in range(ulang):\n",
        "    a=i+1\n",
        "    print(\"Barang ke \", a)\n",
        "    nama = input(\"Nama Barang : \") \n",
        "    qty = int(input(\"Qty : \"))\n",
        "    harga_satuan = int(input(\"Harga : \"))\n",
        "    harga_total=harga_satuan * qty\n",
        "    item.append([nama,qty,harga_total])\n",
        "'''Blok kode diatas digunakan untuk memasukkan nama barang, jumlah barang, dan harga barang pada saat \n",
        "awal user memasukkan barangnya pada sistem kasir. Variabel ulang adalah jumlah perulangan yang dilakukan\n",
        "untuk memasukkan JUMLAH JENIS BARANG yg dibeli \n",
        "'''\n",
        "\n",
        "\n",
        "# Blok kode dibawah ini untuk melakukan pengecekan apakah belanja user sudah benar\n",
        "benar=input(\"Apakah belanja sudah benar? (y/t)\")\n",
        "if benar == \"t\":\n",
        "  pilih_hapus=input(\"Apakah anda ingin menghapus(1), mengubah(2), atau menambah(3) barang anda ? (1/2/3)\")\n",
        "  '''Blok kode dibawah dijalankan jika user memilih menghapus barang'''\n",
        "  if pilih_hapus == \"1\":\n",
        "    print(\"Daftar belanja ada saat ini : \")\n",
        "    df = pd.DataFrame(item)\n",
        "    print(tabulate(df, headers = ('Nama Barang','Jumlah Barang','Harga'), tablefmt = 'psql'))\n",
        "    reset=int(input(\"Anda ingin menghapus beberapa item(1) / ingin hapus semua barang(2) ?\"))\n",
        "    if reset ==1:\n",
        "      hapus=int(input(\"Baris berapa yang dihapus?\"))\n",
        "      for a in range(len(item)):\n",
        "        if a == hapus:\n",
        "          item.pop(a)\n",
        "          print(\"Daftar belanja ada setelah proses hapus : \")\n",
        "          df = pd.DataFrame(item)\n",
        "          print(tabulate(df, headers = ('Nama Barang','Jumlah Barang','Harga'), tablefmt = 'psql')) \n",
        "    elif reset ==2:\n",
        "      Hapus()  \n",
        "\n",
        "# Blok kode dibawah ini dijalankan jika user ingin mengubah data belanja\n",
        "  elif pilih_hapus == \"2\":\n",
        "    print(\"Daftar belanja ada saat ini\")\n",
        "    df = pd.DataFrame(item)\n",
        "    print(tabulate(df, headers = ('Nama Barang','Jumlah Barang','Harga'), tablefmt = 'psql'))\n",
        "    ubah=int(input(\"Baris berapa yang diubah?\"))\n",
        "    for a in range(len(item)):\n",
        "      if a == ubah:\n",
        "        nama = input(\"Nama Barang : \") \n",
        "        qty = int(input(\"Qty : \"))\n",
        "        harga_satuan = int(input(\"Harga : \"))\n",
        "        harga_total=harga_satuan*qty\n",
        "        item.pop(a)\n",
        "        item.insert(a,[nama,qty,harga_total])\n",
        "        print(\"Daftar belanja ada setelah proses ubah : \")\n",
        "        df = pd.DataFrame(item)\n",
        "        print(tabulate(df, headers = ('Nama Barang','Jumlah Barang','Harga'), tablefmt = 'psql'))\n",
        "   \n",
        "#Blok kode dibawah ini dijalankan jika user memilih untuk menambah jenis barang belanja\n",
        "  elif pilih_hapus == \"3\":\n",
        "    nama = input(\"Nama Barang : \") \n",
        "    qty = int(input(\"Qty : \"))\n",
        "    harga_satuan = int(input(\"Harga : \"))\n",
        "    harga_total= harga_satuan*qty\n",
        "    item.append([nama,qty,harga_total])      \n",
        "\n",
        "\n",
        "#Blok kode dibawah menghitung total yang harus dibayar \n",
        "hargatotal=0\n",
        "for index in range(len(item)):\n",
        "  total.append(item[index][2])\n",
        "  hargatotal=hargatotal + int(item[index][2])\n",
        "\n",
        "print(\"Barang yang anda beli adalah :\")\n",
        "df = pd.DataFrame(item)\n",
        "print(tabulate(df, headers = ('Nama Barang','Jumlah Barang','Harga'), tablefmt = 'psql'))\n",
        "\n",
        "print(\"Total harga yang harus dibayar adalah : Rp.\",hargatotal)\n",
        "\n",
        "    \n",
        "\n",
        "\n",
        "    "
      ],
      "metadata": {
        "colab": {
          "base_uri": "https://localhost:8080/"
        },
        "id": "aTmpL3vWOJq5",
        "outputId": "bfa91e4a-b4fd-4f28-a074-faebbe384ac0"
      },
      "execution_count": 4,
      "outputs": [
        {
          "output_type": "stream",
          "name": "stdout",
          "text": [
            "Masukkan Nama Anda : dennis\n",
            "Selamat Datang dennis di Toko Piton\n",
            "Anda membeli berapa jenis barang? : 3\n",
            "Barang ke  1\n",
            "Nama Barang : sampoo\n",
            "Qty : 3\n",
            "Harga : 5000\n",
            "Barang ke  2\n",
            "Nama Barang : sabun\n",
            "Qty : 2\n",
            "Harga : 3000\n",
            "Barang ke  3\n",
            "Nama Barang : sandal\n",
            "Qty : 1\n",
            "Harga : 15000\n",
            "Apakah belanja sudah benar? (y/t)y\n",
            "Barang yang anda beli adalah :\n",
            "+----+---------------+-----------------+---------+\n",
            "|    | Nama Barang   |   Jumlah Barang |   Harga |\n",
            "|----+---------------+-----------------+---------|\n",
            "|  0 | sampoo        |               3 |   15000 |\n",
            "|  1 | sabun         |               2 |    6000 |\n",
            "|  2 | sandal        |               1 |   15000 |\n",
            "+----+---------------+-----------------+---------+\n",
            "Total harga yang harus dibayar adalah : Rp. 36000\n"
          ]
        }
      ]
    },
    {
      "cell_type": "code",
      "source": [],
      "metadata": {
        "id": "hyQMVum_4-Cg"
      },
      "execution_count": null,
      "outputs": []
    }
  ]
}
